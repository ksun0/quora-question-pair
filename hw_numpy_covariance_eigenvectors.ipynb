{
 "cells": [
  {
   "cell_type": "markdown",
   "metadata": {},
   "source": [
    "# Homework: Numpy, Covariance\n",
    "\n",
    "In this assignment, you're primarily just reading, with a small amount of work to do in the end.  This is a basic numpy tutorial.\n",
    "\n",
    "### Extra resources, if you want them (not required reading/viewing)\n",
    "* The [official numpy tutorial](https://docs.scipy.org/doc/numpy-dev/user/quickstart.html)\n",
    "* Jake Vanderplas' book has an [entire chapter on numpy](https://github.com/jakevdp/PythonDataScienceHandbook)\n",
    "* The rest of the [excellent youtube video series on Linear Algebra](https://www.youtube.com/playlist?list=PLZHQObOWTQDPD3MizzM2xVFitgF8hE_ab)"
   ]
  },
  {
   "cell_type": "code",
   "execution_count": 2,
   "metadata": {
    "collapsed": true
   },
   "outputs": [],
   "source": [
    "import numpy as np\n",
    "import pandas as pd"
   ]
  },
  {
   "cell_type": "markdown",
   "metadata": {},
   "source": [
    "The primarily object in numpy is the `array`, which is a fast, multidimensional, single-data-type array:"
   ]
  },
  {
   "cell_type": "code",
   "execution_count": 29,
   "metadata": {
    "collapsed": false
   },
   "outputs": [
    {
     "name": "stdout",
     "output_type": "stream",
     "text": [
      "(3,) (2, 3)\n"
     ]
    }
   ],
   "source": [
    "a = np.array([1, 2, 3])\n",
    "b = np.array([[1,2,3],[4,5,6]])\n",
    "\n",
    "print(a.shape, b.shape)"
   ]
  },
  {
   "cell_type": "markdown",
   "metadata": {},
   "source": [
    "Because they're multidimensional, we can slice them in multiple dimensions:"
   ]
  },
  {
   "cell_type": "code",
   "execution_count": 4,
   "metadata": {
    "collapsed": false
   },
   "outputs": [
    {
     "name": "stdout",
     "output_type": "stream",
     "text": [
      "[[ 1  2  3  4]\n",
      " [ 5  6  7  8]\n",
      " [ 9 10 11 12]]\n",
      "\n",
      "[[2 3]\n",
      " [6 7]]\n"
     ]
    }
   ],
   "source": [
    "# Define a method for printing out arrays with an extra newline at the end, for readability\n",
    "zprint = lambda *x: print(*x, end='\\n\\n')\n",
    "\n",
    "a = np.array([[1,2,3,4], [5,6,7,8], [9,10,11,12]])\n",
    "\n",
    "# Use slicing to pull out the subarray consisting of the first 2 rows\n",
    "# and columns 1 and 2; b is the following array of shape (2, 2):\n",
    "# [[2 3]\n",
    "#  [6 7]]\n",
    "b = a[:2, 1:3]\n",
    "\n",
    "zprint(a)\n",
    "print(b)"
   ]
  },
  {
   "cell_type": "code",
   "execution_count": 7,
   "metadata": {
    "collapsed": false
   },
   "outputs": [
    {
     "name": "stdout",
     "output_type": "stream",
     "text": [
      "[[ 1  2  3  4]\n",
      " [ 5  6  7  8]\n",
      " [ 9 10 11 12]]\n",
      "\n",
      "[5 6 7 8] (4,)\n",
      "\n",
      "[[5 6 7 8]] (1, 4)\n",
      "\n",
      "[ 2  6 10] (3,)\n",
      "\n",
      "[[ 2]\n",
      " [ 6]\n",
      " [10]] (3, 1)\n"
     ]
    }
   ],
   "source": [
    "a = np.array([[1,2,3,4], [5,6,7,8], [9,10,11,12]])\n",
    "zprint(a)\n",
    "\n",
    "# Two ways of accessing the data in the middle row of the array.\n",
    "# Mixing integer indexing with slices yields an array of lower rank,\n",
    "# while using only slices yields an array of the same rank as the\n",
    "# original array:\n",
    "row_r1 = a[1, :]    # Rank 1 view of the second row of a  \n",
    "row_r2 = a[1:2, :]  # Rank 2 view of the second row of a\n",
    "zprint(row_r1, row_r1.shape)  # Prints \"[5 6 7 8] (4,)\"\n",
    "zprint(row_r2, row_r2.shape)  # Prints \"[[5 6 7 8]] (1, 4)\"\n",
    "\n",
    "# We can make the same distinction when accessing columns of an array:\n",
    "col_r1 = a[:, 1]\n",
    "col_r2 = a[:, 1:2]\n",
    "zprint(col_r1, col_r1.shape)  # Prints \"[ 2  6 10] (3,)\"\n",
    "print(col_r2, col_r2.shape)  # Prints \"[[ 2]\n",
    "                            #          [ 6]\n",
    "                            #          [10]] (3, 1)\""
   ]
  },
  {
   "cell_type": "markdown",
   "metadata": {},
   "source": [
    "You can perform basic mathematical operations on arrays"
   ]
  },
  {
   "cell_type": "code",
   "execution_count": 8,
   "metadata": {
    "collapsed": false
   },
   "outputs": [
    {
     "name": "stdout",
     "output_type": "stream",
     "text": [
      "[[1 2]\n",
      " [3 4]\n",
      " [6 5]]\n",
      "\n",
      "[[5 6]\n",
      " [7 8]]\n",
      "\n",
      "[[ 1.          1.41421356]\n",
      " [ 1.73205081  2.        ]\n",
      " [ 2.44948974  2.23606798]]\n"
     ]
    }
   ],
   "source": [
    "x = np.array([[1,2],[3,4], [6,5]])\n",
    "y = np.array([[5,6],[7,8]])\n",
    "\n",
    "zprint(x)\n",
    "zprint(y)\n",
    "# zprint(x + y)\n",
    "# zprint(y - x)\n",
    "# zprint(x * y)\n",
    "# zprint(y / x)\n",
    "print(np.sqrt(x))"
   ]
  },
  {
   "cell_type": "markdown",
   "metadata": {},
   "source": [
    "Are these what you expect?  If you're thinking of a numpy array as a matrix, `a * b` gives us the \"wrong\" answer, and `b/a` doesn't really even make sense.  These are _elementwise_ computations!  Keep that in mind."
   ]
  },
  {
   "cell_type": "code",
   "execution_count": 10,
   "metadata": {
    "collapsed": false
   },
   "outputs": [
    {
     "name": "stdout",
     "output_type": "stream",
     "text": [
      "219\n",
      "\n",
      "219\n",
      "\n",
      "[29 67]\n",
      "\n",
      "[29 67]\n",
      "\n",
      "[[1 2]\n",
      " [3 4]]\n",
      "\n",
      "[[5 6]\n",
      " [7 8]]\n",
      "\n",
      "[[19 22]\n",
      " [43 50]]\n",
      "\n",
      "[[19 22]\n",
      " [43 50]]\n"
     ]
    }
   ],
   "source": [
    "v = np.array([9,10])\n",
    "w = np.array([11, 12])\n",
    "\n",
    "# Inner / dot product of vectors; both produce 219\n",
    "zprint(v.dot(w))\n",
    "zprint(np.dot(v, w))\n",
    "\n",
    "# Matrix / vector product; both produce the rank 1 array [29 67]\n",
    "zprint(x.dot(v))\n",
    "zprint(np.dot(x, v))\n",
    "\n",
    "# Matrix / matrix product; both produce the rank 2 array\n",
    "# [[19 22]\n",
    "#  [43 50]]\n",
    "# x:\n",
    "# [[1 2]\n",
    "#  [3 4]]\n",
    "# y:\n",
    "# [[5 6]\n",
    "#  [7 8]]\n",
    "zprint(x)\n",
    "zprint(y)\n",
    "zprint(x.dot(y))\n",
    "print(np.dot(x, y))"
   ]
  },
  {
   "cell_type": "markdown",
   "metadata": {},
   "source": [
    "Recall that the **transpose** of a matrix is the the result of reflecting it on the diagonal:"
   ]
  },
  {
   "cell_type": "code",
   "execution_count": 11,
   "metadata": {
    "collapsed": false
   },
   "outputs": [
    {
     "name": "stdout",
     "output_type": "stream",
     "text": [
      "[[1 2 3]\n",
      " [4 5 6]\n",
      " [7 8 9]]\n",
      "\n",
      "[[1 4 7]\n",
      " [2 5 8]\n",
      " [3 6 9]]\n"
     ]
    }
   ],
   "source": [
    "z = np.array([[1,2,3],[4,5,6],[7,8,9]])\n",
    "\n",
    "zprint(z)\n",
    "print(z.T)"
   ]
  },
  {
   "cell_type": "markdown",
   "metadata": {},
   "source": [
    "Finally, the **determinant** of a matrix is a single-number quantity that has a lot of uses.  It has a nice [geometric interpretation](https://www.youtube.com/watch?v=Ip3X9LOh2dk) (10 minute video, not required watching), and it also has the following property:\n",
    "\n",
    "**If $A$ is a matrix with the property that some non-zero vector $v$ gives the equation $Av = 0$, then $det(A)=0$.**\n",
    "\n",
    "The definition of the determinant is a little clunky, and I won't require you to know it (at least, not for this test).  But that's what computers are for!"
   ]
  },
  {
   "cell_type": "code",
   "execution_count": 14,
   "metadata": {
    "collapsed": false
   },
   "outputs": [
    {
     "name": "stdout",
     "output_type": "stream",
     "text": [
      "Determinants:\n",
      "[[1 2]\n",
      " [3 4]] ---> -2.0\n",
      "\n",
      "[[5 6]\n",
      " [7 8]] ---> -2.0\n",
      "\n",
      "[[1 2 3]\n",
      " [4 5 6]\n",
      " [7 8 9]] ---> -9.51619735393e-16\n",
      "\n"
     ]
    }
   ],
   "source": [
    "print(\"Determinants:\")\n",
    "for s, d in [(s, np.linalg.det(s)) for s in [x, y, z]]:\n",
    "    zprint(s, \"--->\", d)"
   ]
  },
  {
   "cell_type": "markdown",
   "metadata": {},
   "source": [
    "<div style=\"background-color: #EFDDFF; \">\n",
    "\n",
    "<p> Now, it's your turn: **Write a function** that uses the above commands as well as `np.mean` to create, by hand, the covariance matrix of a dataset.  What's that, you might ask.  For now, let's just work with the definition and how to compute (more for practice with numpy than anything else), and tomorrow we'll cover what it is and how it relates to everything else. </p>\n",
    "\n",
    "Given two columns of data (a statistician would call them _random vectors_), the __covariance__ of the pair is a quantity that captures the amount they _vary together_:\n",
    "\n",
    "$$cov(x,y) = \\frac{1}{n}\\sum_{i=1}^n (x_i-\\overline{x})(y_i-\\overline{y})$$\n",
    "\n",
    "Given a dataset, you could consider taking the covariance of every pair of columns, and somehow comparing them.  The most sensible thing to do for storing those covariances would be in a matrix, called the [__covariance matrix__](https://en.wikipedia.org/wiki/Covariance_matrix): \n",
    "\n",
    "$$\\Sigma = \\left(\\begin{array}{cccc}\n",
    "cov(x_1,x_1) & cov(x_1,x_2) & \\dots & cov(x_1,x_n) \\\\\n",
    "cov(x_2,x_1) & cov(x_2,x_2) & \\dots & cov(x_2,x_n) \\\\\n",
    "\\vdots & \\vdots & \\ddots & \\vdots \\\\\n",
    "cov(x_n,x_1) & cov(x_n,x_2) & \\dots & cov(x_n,x_n) \\\\\n",
    "\\end{array}\\right)$$\n",
    "</div>"
   ]
  },
  {
   "cell_type": "code",
   "execution_count": 72,
   "metadata": {
    "collapsed": false
   },
   "outputs": [
    {
     "data": {
      "text/plain": [
       "array([[3, 4],\n",
       "       [5, 6]])"
      ]
     },
     "execution_count": 72,
     "metadata": {},
     "output_type": "execute_result"
    }
   ],
   "source": [
    "a = np.array([[1,2],[3,4]])\n",
    "a+2"
   ]
  },
  {
   "cell_type": "code",
   "execution_count": 73,
   "metadata": {
    "collapsed": false
   },
   "outputs": [
    {
     "data": {
      "text/plain": [
       "array([[ 7,  8],\n",
       "       [10, 11]])"
      ]
     },
     "execution_count": 73,
     "metadata": {},
     "output_type": "execute_result"
    }
   ],
   "source": [
    "v = np.array([[6,7]])\n",
    "a+v.T"
   ]
  },
  {
   "cell_type": "code",
   "execution_count": 69,
   "metadata": {
    "collapsed": false
   },
   "outputs": [],
   "source": [
    "# Your code here! (It shouldn't be nearly as scary as it looks! Right a \n",
    "# covariance method, and then use a nested list comprehension or a nested \n",
    "# for loop to build the matrix.)\n",
    "\n",
    "# def covariance(x, y):\n",
    "#     _sum = 0\n",
    "#     for i in range(len(x)):\n",
    "#         _sum += (x[i] - np.mean(x)) * (y[i] - np.mean(y))\n",
    "#     return _sum / len(x)\n",
    "\n",
    "def covariance(x, y):\n",
    "    return np.mean((x-np.mean(x)) * (y - np.mean(y)))\n",
    "\n",
    "def covariance2D(x):\n",
    "    m = [[0 for x in range(len(x[0]))] for y in range(len(x[0]))] \n",
    "    for i in range(len(x[0])):\n",
    "        for j in range(len(x[0])):\n",
    "            m[i][j] = covariance(x[:, i], x[:, j])\n",
    "    return np.array(m)"
   ]
  },
  {
   "cell_type": "markdown",
   "metadata": {},
   "source": [
    "<div style=\"background-color: #EFDDFF; \">\n",
    "After writing the method, **first** test it out on the following matrix. Don't worry about the strange keyword arguments to `np.cov`, it makes different assumptions about the dataset than we do.\n",
    "</div>"
   ]
  },
  {
   "cell_type": "code",
   "execution_count": 70,
   "metadata": {
    "collapsed": false,
    "scrolled": true
   },
   "outputs": [
    {
     "name": "stdout",
     "output_type": "stream",
     "text": [
      "[[  8.  -8.   6.]\n",
      " [ -8.   8.  -6.]\n",
      " [  6.  -6.  42.]]\n",
      "\n",
      "Original matrix:\n",
      "[[  0   6   0]\n",
      " [  5  -1   5]\n",
      " [-10   2   5]]\n",
      "\n",
      "Its covariance matrix:\n",
      "[[  8.  -8.   6.]\n",
      " [ -8.   8.  -6.]\n",
      " [  6.  -6.  42.]]\n"
     ]
    }
   ],
   "source": [
    "np.random.seed(seed=1863)\n",
    "x = np.random.randint(-10, 10, size=(3,3))\n",
    "zprint(covariance2D(x))\n",
    "print(\"Original matrix:\", x.T, '', \"Its covariance matrix:\", np.cov(x, rowvar=False, bias=1), sep='\\n')"
   ]
  },
  {
   "cell_type": "markdown",
   "metadata": {},
   "source": [
    "<div style=\"background-color: #EFDDFF; \">\n",
    "**Second**, compute the covariance matrix for [this dataset](https://vincentarelbundock.github.io/Rdatasets/csv/datasets/mtcars.csv), which is [explained here](https://vincentarelbundock.github.io/Rdatasets/doc/datasets/mtcars.html).  To do this into numpy, the fastest way is to go through Pandas to read the csv, then take `df.values` on the dataframe that you get.\n",
    "</div>"
   ]
  },
  {
   "cell_type": "code",
   "execution_count": 71,
   "metadata": {
    "collapsed": false
   },
   "outputs": [
    {
     "name": "stdout",
     "output_type": "stream",
     "text": [
      "              Mazda RX4    21  6    160  110   3.9   2.62  16.46  0  1  4  4.1\n",
      "0         Mazda RX4 Wag  21.0  6  160.0  110  3.90  2.875  17.02  0  1  4    4\n",
      "1            Datsun 710  22.8  4  108.0   93  3.85  2.320  18.61  1  1  4    1\n",
      "2        Hornet 4 Drive  21.4  6  258.0  110  3.08  3.215  19.44  1  0  3    1\n",
      "3     Hornet Sportabout  18.7  8  360.0  175  3.15  3.440  17.02  0  0  3    2\n",
      "4               Valiant  18.1  6  225.0  105  2.76  3.460  20.22  1  0  3    1\n",
      "5            Duster 360  14.3  8  360.0  245  3.21  3.570  15.84  0  0  3    4\n",
      "6             Merc 240D  24.4  4  146.7   62  3.69  3.190  20.00  1  0  4    2\n",
      "7              Merc 230  22.8  4  140.8   95  3.92  3.150  22.90  1  0  4    2\n",
      "8              Merc 280  19.2  6  167.6  123  3.92  3.440  18.30  1  0  4    4\n",
      "9             Merc 280C  17.8  6  167.6  123  3.92  3.440  18.90  1  0  4    4\n",
      "10           Merc 450SE  16.4  8  275.8  180  3.07  4.070  17.40  0  0  3    3\n",
      "11           Merc 450SL  17.3  8  275.8  180  3.07  3.730  17.60  0  0  3    3\n",
      "12          Merc 450SLC  15.2  8  275.8  180  3.07  3.780  18.00  0  0  3    3\n",
      "13   Cadillac Fleetwood  10.4  8  472.0  205  2.93  5.250  17.98  0  0  3    4\n",
      "14  Lincoln Continental  10.4  8  460.0  215  3.00  5.424  17.82  0  0  3    4\n",
      "15    Chrysler Imperial  14.7  8  440.0  230  3.23  5.345  17.42  0  0  3    4\n",
      "16             Fiat 128  32.4  4   78.7   66  4.08  2.200  19.47  1  1  4    1\n",
      "17          Honda Civic  30.4  4   75.7   52  4.93  1.615  18.52  1  1  4    2\n",
      "18       Toyota Corolla  33.9  4   71.1   65  4.22  1.835  19.90  1  1  4    1\n",
      "19        Toyota Corona  21.5  4  120.1   97  3.70  2.465  20.01  1  0  3    1\n",
      "20     Dodge Challenger  15.5  8  318.0  150  2.76  3.520  16.87  0  0  3    2\n",
      "21          AMC Javelin  15.2  8  304.0  150  3.15  3.435  17.30  0  0  3    2\n",
      "22           Camaro Z28  13.3  8  350.0  245  3.73  3.840  15.41  0  0  3    4\n",
      "23     Pontiac Firebird  19.2  8  400.0  175  3.08  3.845  17.05  0  0  3    2\n",
      "24            Fiat X1-9  27.3  4   79.0   66  4.08  1.935  18.90  1  1  4    1\n",
      "25        Porsche 914-2  26.0  4  120.3   91  4.43  2.140  16.70  0  1  5    2\n",
      "26         Lotus Europa  30.4  4   95.1  113  3.77  1.513  16.90  1  1  5    2\n",
      "27       Ford Pantera L  15.8  8  351.0  264  4.22  3.170  14.50  0  1  5    4\n",
      "28         Ferrari Dino  19.7  6  145.0  175  3.62  2.770  15.50  0  1  5    6\n",
      "29        Maserati Bora  15.0  8  301.0  335  3.54  3.570  14.60  0  1  5    8\n",
      "30           Volvo 142E  21.4  4  121.0  109  4.11  2.780  18.60  1  1  4    2\n",
      "[[  3.62965661e+01  -9.16670135e+00  -6.30955682e+02  -3.19621124e+02\n",
      "    2.18587513e+00  -5.09859938e+00   4.55120187e+00   2.03038502e+00\n",
      "    1.78595213e+00   2.12622268e+00  -5.39906348e+00]\n",
      " [ -9.16670135e+00   3.18834547e+00   1.99218730e+02   1.01702393e+02\n",
      "   -6.66472425e-01   1.36364204e+00  -1.89552549e+00  -7.32570239e-01\n",
      "   -4.62018730e-01  -6.47242456e-01   1.52757544e+00]\n",
      " [ -6.30955682e+02   1.99218730e+02   1.51942539e+04   6.63476171e+03\n",
      "   -4.63494412e+01   1.06277714e+02  -9.93221082e+01  -4.54079084e+01\n",
      "   -3.51657648e+01  -5.00667014e+01   8.18652445e+01]\n",
      " [ -3.19621124e+02   1.01702393e+02   6.63476171e+03   4.65604787e+03\n",
      "   -1.60804162e+01   4.34630343e+01  -8.84666389e+01  -2.55223725e+01\n",
      "   -7.59521332e+00  -5.97710718e+00   8.44869927e+01]\n",
      " [  2.18587513e+00  -6.66472425e-01  -4.63494412e+01  -1.60804162e+01\n",
      "    2.82815401e-01  -3.66686077e-01   1.01172737e-01   1.23069719e-01\n",
      "    1.84151925e-01   2.72830385e-01  -9.04058273e-02]\n",
      " [ -5.09859938e+00   1.36364204e+00   1.06277714e+02   4.34630343e+01\n",
      "   -3.66686077e-01   9.45501088e-01  -3.33100541e-01  -2.82362123e-01\n",
      "   -3.26296566e-01  -4.14865765e-01   6.99406868e-01]\n",
      " [  4.55120187e+00  -1.89552549e+00  -9.93221082e+01  -8.84666389e+01\n",
      "    1.01172737e-01  -3.33100541e-01   3.12894547e+00   6.50332986e-01\n",
      "   -1.77502601e-01  -2.65952133e-01  -1.83919875e+00]\n",
      " [  2.03038502e+00  -7.32570239e-01  -4.54079084e+01  -2.55223725e+01\n",
      "    1.23069719e-01  -2.82362123e-01   6.50332986e-01   2.47658689e-01\n",
      "    5.09885536e-02   8.11654527e-02  -4.46409990e-01]\n",
      " [  1.78595213e+00  -4.62018730e-01  -3.51657648e+01  -7.59521332e+00\n",
      "    1.84151925e-01  -3.26296566e-01  -1.77502601e-01   5.09885536e-02\n",
      "    2.37252862e-01   2.86160250e-01   2.28928200e-02]\n",
      " [  2.12622268e+00  -6.47242456e-01  -5.00667014e+01  -5.97710718e+00\n",
      "    2.72830385e-01  -4.14865765e-01  -2.65952133e-01   8.11654527e-02\n",
      "    2.86160250e-01   5.41103018e-01   3.14255983e-01]\n",
      " [ -5.39906348e+00   1.52757544e+00   8.18652445e+01   8.44869927e+01\n",
      "   -9.04058273e-02   6.99406868e-01  -1.83919875e+00  -4.46409990e-01\n",
      "    2.28928200e-02   3.14255983e-01   2.56191467e+00]]\n"
     ]
    }
   ],
   "source": [
    "df = pd.read_csv(\"data/mtcars.csv\", header=1)\n",
    "print(df)\n",
    "values = df.values[:,1:]\n",
    "print(covariance2D(a))"
   ]
  },
  {
   "cell_type": "markdown",
   "metadata": {
    "collapsed": false
   },
   "source": [
    "# Just for your learning purposes, here's how I found a 3x3 integer-valued matrix with an integer-valued covariance matrix:"
   ]
  },
  {
   "cell_type": "code",
   "execution_count": 68,
   "metadata": {
    "collapsed": false
   },
   "outputs": [
    {
     "name": "stdout",
     "output_type": "stream",
     "text": [
      "1863\n",
      "\n",
      "[[  0   5 -10]\n",
      " [  6  -1   2]\n",
      " [  0   5   5]]\n",
      "\n",
      "[[  8.  -8.   6.]\n",
      " [ -8.   8.  -6.]\n",
      " [  6.  -6.  42.]]\n"
     ]
    }
   ],
   "source": [
    "for i in range(100000):\n",
    "    if i == 883:\n",
    "        # This one is trivial\n",
    "        continue\n",
    "    np.random.seed(seed=i)\n",
    "    x = np.random.randint(-10, 10, size=(3,3))\n",
    "    cov = np.cov(x, rowvar=False, bias=1)\n",
    "    if (cov.round() == cov).all():\n",
    "        print(i, x, cov, sep='\\n\\n')\n",
    "        break"
   ]
  },
  {
   "cell_type": "code",
   "execution_count": null,
   "metadata": {
    "collapsed": true
   },
   "outputs": [],
   "source": []
  }
 ],
 "metadata": {
  "anaconda-cloud": {},
  "kernelspec": {
   "display_name": "Python [default]",
   "language": "python",
   "name": "python3"
  },
  "language_info": {
   "codemirror_mode": {
    "name": "ipython",
    "version": 3
   },
   "file_extension": ".py",
   "mimetype": "text/x-python",
   "name": "python",
   "nbconvert_exporter": "python",
   "pygments_lexer": "ipython3",
   "version": "3.5.2"
  }
 },
 "nbformat": 4,
 "nbformat_minor": 0
}
